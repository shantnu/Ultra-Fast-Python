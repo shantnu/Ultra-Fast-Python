{
 "cells": [
  {
   "cell_type": "markdown",
   "metadata": {},
   "source": [
    "# Lists"
   ]
  },
  {
   "cell_type": "code",
   "execution_count": 1,
   "metadata": {
    "collapsed": false
   },
   "outputs": [
    {
     "name": "stdout",
     "output_type": "stream",
     "text": [
      "5\n",
      "Shantnu\n"
     ]
    }
   ],
   "source": [
    "a = 5\n",
    "name = \"Shantnu\"\n",
    "print(a)\n",
    "print(name)"
   ]
  },
  {
   "cell_type": "code",
   "execution_count": 2,
   "metadata": {
    "collapsed": false
   },
   "outputs": [
    {
     "name": "stdout",
     "output_type": "stream",
     "text": [
      "['Shantnu', 'John', 'Sally']\n"
     ]
    }
   ],
   "source": [
    "names = [\"Shantnu\", \"John\", \"Sally\"]\n",
    "print(names)"
   ]
  },
  {
   "cell_type": "code",
   "execution_count": 3,
   "metadata": {
    "collapsed": false
   },
   "outputs": [
    {
     "name": "stdout",
     "output_type": "stream",
     "text": [
      "Hello  Shantnu\n",
      "Hello  John\n",
      "Hello  Sally\n"
     ]
    }
   ],
   "source": [
    "for name in names:\n",
    "    print(\"Hello \", name)"
   ]
  },
  {
   "cell_type": "code",
   "execution_count": 14,
   "metadata": {
    "collapsed": false
   },
   "outputs": [
    {
     "name": "stdout",
     "output_type": "stream",
     "text": [
      "['Shantnu', 'John', 'Sally', 'Mr Smith']\n"
     ]
    }
   ],
   "source": [
    "names.append(\"Mr Smith\")\n",
    "print(names)"
   ]
  },
  {
   "cell_type": "code",
   "execution_count": 5,
   "metadata": {
    "collapsed": false
   },
   "outputs": [
    {
     "data": {
      "text/plain": [
       "['Shantnu', 'John', 'Sally', 'Mr Smith']"
      ]
     },
     "execution_count": 5,
     "metadata": {},
     "output_type": "execute_result"
    }
   ],
   "source": [
    "# Ipython only! be careful\n",
    "names"
   ]
  },
  {
   "cell_type": "code",
   "execution_count": 7,
   "metadata": {
    "collapsed": false
   },
   "outputs": [
    {
     "name": "stdout",
     "output_type": "stream",
     "text": [
      "Shantnu\n",
      "Sally\n"
     ]
    }
   ],
   "source": [
    "# Start from 0\n",
    "print(names[0])\n",
    "print(names[2])"
   ]
  },
  {
   "cell_type": "code",
   "execution_count": 9,
   "metadata": {
    "collapsed": false
   },
   "outputs": [
    {
     "name": "stdout",
     "output_type": "stream",
     "text": [
      "Mr Smith\n",
      "Sally\n"
     ]
    }
   ],
   "source": [
    "# Weird!\n",
    "\n",
    "print(names[-1])\n",
    "\n",
    "# prints last value\n",
    "\n",
    "print(names[-2])"
   ]
  },
  {
   "cell_type": "code",
   "execution_count": 11,
   "metadata": {
    "collapsed": false
   },
   "outputs": [
    {
     "name": "stdout",
     "output_type": "stream",
     "text": [
      "['Shantnu', 'John', 'Sally', 'Mr Smith', 'Wrong name! Please remove me', 'Wrong name! Please remove me']\n",
      "['Shantnu', 'John', 'Sally', 'Mr Smith', 'Wrong name! Please remove me']\n"
     ]
    }
   ],
   "source": [
    "# learn to google! Remove from list\n",
    "names.append(\"Wrong name! Please remove me\")\n",
    "print(names)"
   ]
  },
  {
   "cell_type": "code",
   "execution_count": 13,
   "metadata": {
    "collapsed": false
   },
   "outputs": [
    {
     "name": "stdout",
     "output_type": "stream",
     "text": [
      "['Shantnu', 'John', 'Sally']\n"
     ]
    }
   ],
   "source": [
    "del names[-1]\n",
    "print(names)"
   ]
  },
  {
   "cell_type": "code",
   "execution_count": 15,
   "metadata": {
    "collapsed": false
   },
   "outputs": [
    {
     "data": {
      "text/plain": [
       "['Shantnu', 'John', 'Sally', 'Mr Smith']"
      ]
     },
     "execution_count": 15,
     "metadata": {},
     "output_type": "execute_result"
    }
   ],
   "source": [
    "names"
   ]
  },
  {
   "cell_type": "code",
   "execution_count": 17,
   "metadata": {
    "collapsed": false
   },
   "outputs": [
    {
     "data": {
      "text/plain": [
       "['Shantnu', 'John', 'Sally', 'Mr Smith', 'K', 'l', 'm', 'n']"
      ]
     },
     "execution_count": 17,
     "metadata": {},
     "output_type": "execute_result"
    }
   ],
   "source": [
    "# Array slicing\n",
    "# Add another few names. Make it 10\n",
    "names.append(\"K\")\n",
    "names.append(\"l\")\n",
    "names.append(\"m\")\n",
    "names.append(\"n\")\n",
    "names"
   ]
  },
  {
   "cell_type": "code",
   "execution_count": 18,
   "metadata": {
    "collapsed": false
   },
   "outputs": [
    {
     "data": {
      "text/plain": [
       "['Shantnu', 'John', 'Sally', 'Mr Smith', 'K']"
      ]
     },
     "execution_count": 18,
     "metadata": {},
     "output_type": "execute_result"
    }
   ],
   "source": [
    "# prnt 1st five names\n",
    "names[:5]"
   ]
  },
  {
   "cell_type": "code",
   "execution_count": 19,
   "metadata": {
    "collapsed": false
   },
   "outputs": [
    {
     "data": {
      "text/plain": [
       "['l', 'm', 'n']"
      ]
     },
     "execution_count": 19,
     "metadata": {},
     "output_type": "execute_result"
    }
   ],
   "source": [
    "names[5:]"
   ]
  },
  {
   "cell_type": "code",
   "execution_count": 20,
   "metadata": {
    "collapsed": false
   },
   "outputs": [
    {
     "data": {
      "text/plain": [
       "['Sally', 'Mr Smith', 'K', 'l']"
      ]
     },
     "execution_count": 20,
     "metadata": {},
     "output_type": "execute_result"
    }
   ],
   "source": [
    "# And this is where it gets interetsing\n",
    "\n",
    "names[2:6]"
   ]
  },
  {
   "cell_type": "code",
   "execution_count": 26,
   "metadata": {
    "collapsed": false
   },
   "outputs": [
    {
     "data": {
      "text/plain": [
       "['John', 'Sally', 'Mr Smith', 'K', 'l', 'm']"
      ]
     },
     "execution_count": 26,
     "metadata": {},
     "output_type": "execute_result"
    }
   ],
   "source": [
    "# You can even do\n",
    "# removes 1st and last valyues!\n",
    "names[1:-1]"
   ]
  },
  {
   "cell_type": "code",
   "execution_count": 27,
   "metadata": {
    "collapsed": false
   },
   "outputs": [
    {
     "data": {
      "text/plain": [
       "['Sally', 'K']"
      ]
     },
     "execution_count": 27,
     "metadata": {},
     "output_type": "execute_result"
    }
   ],
   "source": [
    "# Go from 2 to 6 in steps of 2\n",
    "names[2:6:2]"
   ]
  },
  {
   "cell_type": "code",
   "execution_count": 37,
   "metadata": {
    "collapsed": false
   },
   "outputs": [
    {
     "name": "stdout",
     "output_type": "stream",
     "text": [
      "Unknown name\n",
      "Unknown name\n",
      "Found Sally!\n",
      "Unknown name\n",
      "Unknown name\n",
      "Mr T found\n",
      "Unknown name\n",
      "Unknown name\n"
     ]
    }
   ],
   "source": [
    "# If loop\n",
    "\n",
    "for name in names:\n",
    "    if (name == \"Sally\"):\n",
    "        print(\"Found Sally!\")\n",
    "    elif (name == \"l\"):\n",
    "        print(\"Mr T found\")\n",
    "    else:\n",
    "        print(\"Unknown name\")"
   ]
  },
  {
   "cell_type": "markdown",
   "metadata": {},
   "source": [
    "# Dictionary"
   ]
  },
  {
   "cell_type": "code",
   "execution_count": 28,
   "metadata": {
    "collapsed": false
   },
   "outputs": [
    {
     "data": {
      "text/plain": [
       "{'Bob': 21, 'L': 2, 'Sally': 33}"
      ]
     },
     "execution_count": 28,
     "metadata": {},
     "output_type": "execute_result"
    }
   ],
   "source": [
    "age_dict = {\"Bob\":21, \"Sally\":33, \"L\":2}\n",
    "age_dict"
   ]
  },
  {
   "cell_type": "code",
   "execution_count": 29,
   "metadata": {
    "collapsed": false
   },
   "outputs": [
    {
     "data": {
      "text/plain": [
       "21"
      ]
     },
     "execution_count": 29,
     "metadata": {},
     "output_type": "execute_result"
    }
   ],
   "source": [
    "age_dict[\"Bob\"]"
   ]
  },
  {
   "cell_type": "code",
   "execution_count": 30,
   "metadata": {
    "collapsed": false
   },
   "outputs": [
    {
     "data": {
      "text/plain": [
       "{'Bob': 21, 'L': 2, 'Sally': 33, 'Shantnu': 16}"
      ]
     },
     "execution_count": 30,
     "metadata": {},
     "output_type": "execute_result"
    }
   ],
   "source": [
    "age_dict[\"Shantnu\"] = 16\n",
    "age_dict"
   ]
  },
  {
   "cell_type": "markdown",
   "metadata": {},
   "source": [
    "# List comprehension\n"
   ]
  },
  {
   "cell_type": "code",
   "execution_count": 34,
   "metadata": {
    "collapsed": false
   },
   "outputs": [
    {
     "name": "stdout",
     "output_type": "stream",
     "text": [
      "[5, 10, 15, 20, 25]\n",
      "[1.0, 2.0, 3.0, 4.0, 5.0]\n"
     ]
    }
   ],
   "source": [
    "# We have a list. Divide each value by 5\n",
    "\n",
    "numbers = [5,10,15,20,25]\n",
    "numbers2 = []\n",
    "\n",
    "for n in numbers:\n",
    "    numbers2.append(n / 5)\n",
    "    \n",
    "print(numbers)    \n",
    "print(numbers2)"
   ]
  },
  {
   "cell_type": "code",
   "execution_count": 35,
   "metadata": {
    "collapsed": false
   },
   "outputs": [
    {
     "name": "stdout",
     "output_type": "stream",
     "text": [
      "[1.0, 2.0, 3.0, 4.0, 5.0]\n"
     ]
    }
   ],
   "source": [
    "numbers3 = [ n / 5 for n in numbers]\n",
    "print(numbers3)"
   ]
  },
  {
   "cell_type": "code",
   "execution_count": 36,
   "metadata": {
    "collapsed": false
   },
   "outputs": [
    {
     "name": "stdout",
     "output_type": "stream",
     "text": [
      "[ 1.  2.  3.  4.  5.]\n"
     ]
    }
   ],
   "source": [
    "import numpy as np\n",
    "\n",
    "numbers_np = np.array(numbers)\n",
    "numbers_np = numbers_np / 5\n",
    "\n",
    "print(numbers_np)"
   ]
  },
  {
   "cell_type": "markdown",
   "metadata": {},
   "source": [
    "# Strings"
   ]
  },
  {
   "cell_type": "code",
   "execution_count": 39,
   "metadata": {
    "collapsed": false
   },
   "outputs": [
    {
     "name": "stdout",
     "output_type": "stream",
     "text": [
      "S\n",
      "h\n",
      "a\n",
      "n\n",
      "t\n",
      "n\n",
      "u\n"
     ]
    }
   ],
   "source": [
    "# Strings are like lists!\n",
    "\n",
    "name = \"Shantnu\"\n",
    "for n in name:\n",
    "    print(n)"
   ]
  },
  {
   "cell_type": "code",
   "execution_count": 40,
   "metadata": {
    "collapsed": false
   },
   "outputs": [
    {
     "name": "stdout",
     "output_type": "stream",
     "text": [
      "ShantnuTiwari\n"
     ]
    }
   ],
   "source": [
    "sirname = \"Tiwari\"\n",
    "print(name + sirname)"
   ]
  },
  {
   "cell_type": "markdown",
   "metadata": {},
   "source": [
    "# File I/o\n",
    "\n",
    "**Save the following into a file called names.txt**\n",
    "\n",
    "Shantnu, John, Sally, Mr Smith"
   ]
  },
  {
   "cell_type": "code",
   "execution_count": 42,
   "metadata": {
    "collapsed": false
   },
   "outputs": [
    {
     "name": "stdout",
     "output_type": "stream",
     "text": [
      "Shantnu, John, Sally, Mr Smith\n"
     ]
    }
   ],
   "source": [
    "with open(\"names.txt\", \"r\") as f:\n",
    "    names_file = f.read()\n",
    "print(names_file)    "
   ]
  },
  {
   "cell_type": "code",
   "execution_count": 44,
   "metadata": {
    "collapsed": false
   },
   "outputs": [
    {
     "data": {
      "text/plain": [
       "['Shantnu', ' John', ' Sally', ' Mr Smith']"
      ]
     },
     "execution_count": 44,
     "metadata": {},
     "output_type": "execute_result"
    }
   ],
   "source": [
    "names_file_separate = names_file.split(\",\")\n",
    "names_file_separate"
   ]
  },
  {
   "cell_type": "code",
   "execution_count": 54,
   "metadata": {
    "collapsed": false
   },
   "outputs": [
    {
     "data": {
      "text/plain": [
       "['Shantnu', 'John', 'Sally', 'MrSmith']"
      ]
     },
     "execution_count": 54,
     "metadata": {},
     "output_type": "execute_result"
    }
   ],
   "source": [
    "names_file_separate = [name.replace(\" \", \"\") for name in names_file_separate]\n",
    "names_file_separate"
   ]
  },
  {
   "cell_type": "markdown",
   "metadata": {},
   "source": [
    "# Functions"
   ]
  },
  {
   "cell_type": "code",
   "execution_count": 55,
   "metadata": {
    "collapsed": false
   },
   "outputs": [
    {
     "name": "stdout",
     "output_type": "stream",
     "text": [
      "Hello  Shantnu\n"
     ]
    }
   ],
   "source": [
    "def hello(name):\n",
    "    print(\"Hello \", name)\n",
    "    \n",
    "hello(\"Shantnu\")    "
   ]
  },
  {
   "cell_type": "code",
   "execution_count": 56,
   "metadata": {
    "collapsed": false
   },
   "outputs": [
    {
     "name": "stdout",
     "output_type": "stream",
     "text": [
      "Hello Shantnu\n"
     ]
    }
   ],
   "source": [
    "def hello2(name):\n",
    "    return \"Hello \" + name\n",
    "    \n",
    "print(hello2(\"Shantnu\")  )"
   ]
  },
  {
   "cell_type": "code",
   "execution_count": 57,
   "metadata": {
    "collapsed": false
   },
   "outputs": [
    {
     "name": "stdout",
     "output_type": "stream",
     "text": [
      "Hello Hello Shan in 10 years you will be 26 years old! Shocking\n"
     ]
    }
   ],
   "source": [
    "def hello_age(name, age):\n",
    "    name_hello = \"Hello \" + name\n",
    "    age = age  + 10\n",
    "    return name_hello, age\n",
    "\n",
    "name_hello, age = hello_age(\"Shan\", 16)\n",
    "print(\"Hello {} in 10 years you will be {} years old! Shocking\".format(name_hello, age ))"
   ]
  },
  {
   "cell_type": "code",
   "execution_count": null,
   "metadata": {
    "collapsed": true
   },
   "outputs": [],
   "source": []
  }
 ],
 "metadata": {
  "kernelspec": {
   "display_name": "Python 3",
   "language": "python",
   "name": "python3"
  },
  "language_info": {
   "codemirror_mode": {
    "name": "ipython",
    "version": 3
   },
   "file_extension": ".py",
   "mimetype": "text/x-python",
   "name": "python",
   "nbconvert_exporter": "python",
   "pygments_lexer": "ipython3",
   "version": "3.4.3"
  }
 },
 "nbformat": 4,
 "nbformat_minor": 0
}
